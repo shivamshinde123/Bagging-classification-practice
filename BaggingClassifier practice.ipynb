{
 "cells": [
  {
   "cell_type": "code",
   "execution_count": 1,
   "id": "612c1dbf",
   "metadata": {},
   "outputs": [],
   "source": [
    "from sklearn.datasets import load_iris\n",
    "from sklearn.linear_model import LogisticRegression\n",
    "from sklearn.svm import SVC\n",
    "from sklearn.tree import DecisionTreeClassifier\n",
    "\n",
    "data = load_iris()"
   ]
  },
  {
   "cell_type": "code",
   "execution_count": 2,
   "id": "f66161e0",
   "metadata": {},
   "outputs": [],
   "source": [
    "X, y = data['data'], data['target']"
   ]
  },
  {
   "cell_type": "code",
   "execution_count": 3,
   "id": "db92a3ac",
   "metadata": {},
   "outputs": [],
   "source": [
    "from sklearn.model_selection import train_test_split\n",
    "\n",
    "X_train, X_test, y_train, y_test = train_test_split(X,y,test_size=0.4,random_state=123)"
   ]
  },
  {
   "cell_type": "markdown",
   "id": "a850a286",
   "metadata": {},
   "source": [
    "## logistic regression"
   ]
  },
  {
   "cell_type": "code",
   "execution_count": 4,
   "id": "26536985",
   "metadata": {},
   "outputs": [],
   "source": [
    "lr = LogisticRegression(max_iter=2000)"
   ]
  },
  {
   "cell_type": "code",
   "execution_count": 5,
   "id": "76178676",
   "metadata": {},
   "outputs": [],
   "source": [
    "lr_no_bag = lr.fit(X_train,y_train)"
   ]
  },
  {
   "cell_type": "code",
   "execution_count": 6,
   "id": "7c5a89e0",
   "metadata": {},
   "outputs": [],
   "source": [
    "from sklearn.ensemble import BaggingClassifier \n",
    "lr_with_bag = BaggingClassifier(lr, max_samples=50, bootstrap=True, oob_score=True, n_jobs=-1,n_estimators=100, random_state=987 ).fit(X_train,y_train)"
   ]
  },
  {
   "cell_type": "code",
   "execution_count": 7,
   "id": "1f87f346",
   "metadata": {},
   "outputs": [
    {
     "data": {
      "text/plain": [
       "0.9666666666666667"
      ]
     },
     "execution_count": 7,
     "metadata": {},
     "output_type": "execute_result"
    }
   ],
   "source": [
    "## Accuracy score without bagging\n",
    "from sklearn.metrics import accuracy_score\n",
    "\n",
    "lr_no_bag_score = accuracy_score(y_test,lr_no_bag.predict(X_test))\n",
    "lr_no_bag_score"
   ]
  },
  {
   "cell_type": "code",
   "execution_count": 8,
   "id": "f8d0cbe8",
   "metadata": {},
   "outputs": [
    {
     "data": {
      "text/plain": [
       "0.9555555555555556"
      ]
     },
     "execution_count": 8,
     "metadata": {},
     "output_type": "execute_result"
    }
   ],
   "source": [
    "## out of bag evaluation\n",
    "lr_with_bag.oob_score_"
   ]
  },
  {
   "cell_type": "code",
   "execution_count": 9,
   "id": "62d328b0",
   "metadata": {},
   "outputs": [
    {
     "data": {
      "text/plain": [
       "0.9333333333333333"
      ]
     },
     "execution_count": 9,
     "metadata": {},
     "output_type": "execute_result"
    }
   ],
   "source": [
    "## Accuracy with bagging\n",
    "lr_with_bag_score = accuracy_score(y_test,lr_with_bag.predict(X_test))\n",
    "lr_with_bag_score"
   ]
  },
  {
   "cell_type": "markdown",
   "id": "fe85efd6",
   "metadata": {},
   "source": [
    "## SVC"
   ]
  },
  {
   "cell_type": "code",
   "execution_count": 10,
   "id": "04ca2430",
   "metadata": {},
   "outputs": [],
   "source": [
    "s = SVC(probability=True).fit(X_train,y_train)"
   ]
  },
  {
   "cell_type": "code",
   "execution_count": 11,
   "id": "891b2166",
   "metadata": {},
   "outputs": [],
   "source": [
    "sb = BaggingClassifier(SVC(probability=True), max_samples=50, bootstrap=True, oob_score=True, n_jobs=-1,n_estimators=100, random_state=567).fit(X_train,y_train)"
   ]
  },
  {
   "cell_type": "code",
   "execution_count": 12,
   "id": "e84674a9",
   "metadata": {},
   "outputs": [],
   "source": [
    "s_score = accuracy_score(y_test,s.predict(X_test))\n",
    "sb_score = accuracy_score(y_test,sb.predict(X_test))"
   ]
  },
  {
   "cell_type": "code",
   "execution_count": 13,
   "id": "03a178b8",
   "metadata": {},
   "outputs": [
    {
     "data": {
      "text/plain": [
       "0.9166666666666666"
      ]
     },
     "execution_count": 13,
     "metadata": {},
     "output_type": "execute_result"
    }
   ],
   "source": [
    "## Accuracy without bagging\n",
    "s_score"
   ]
  },
  {
   "cell_type": "code",
   "execution_count": 14,
   "id": "fab44eac",
   "metadata": {},
   "outputs": [
    {
     "data": {
      "text/plain": [
       "0.9444444444444444"
      ]
     },
     "execution_count": 14,
     "metadata": {},
     "output_type": "execute_result"
    }
   ],
   "source": [
    "## Out of bag evaluation\n",
    "sb.oob_score_"
   ]
  },
  {
   "cell_type": "code",
   "execution_count": 15,
   "id": "701d3fc4",
   "metadata": {},
   "outputs": [
    {
     "data": {
      "text/plain": [
       "0.95"
      ]
     },
     "execution_count": 15,
     "metadata": {},
     "output_type": "execute_result"
    }
   ],
   "source": [
    "## Accuracy with bagging\n",
    "sb_score"
   ]
  },
  {
   "cell_type": "markdown",
   "id": "d4ae3fac",
   "metadata": {},
   "source": [
    "## DecisionTreeClassifier"
   ]
  },
  {
   "cell_type": "code",
   "execution_count": 16,
   "id": "e089a665",
   "metadata": {},
   "outputs": [],
   "source": [
    "dr = DecisionTreeClassifier().fit(X_train,y_train)"
   ]
  },
  {
   "cell_type": "code",
   "execution_count": 17,
   "id": "c161d461",
   "metadata": {},
   "outputs": [],
   "source": [
    "drb = BaggingClassifier(DecisionTreeClassifier(), max_samples=50, bootstrap=True, oob_score=True, n_jobs=-1,n_estimators=100, random_state=4564).fit(X_train,y_train)"
   ]
  },
  {
   "cell_type": "code",
   "execution_count": 18,
   "id": "690426bc",
   "metadata": {},
   "outputs": [],
   "source": [
    "dr_score = accuracy_score(y_test,dr.predict(X_test))\n",
    "drb_score = accuracy_score(y_test,drb.predict(X_test))"
   ]
  },
  {
   "cell_type": "code",
   "execution_count": 19,
   "id": "307a6c87",
   "metadata": {},
   "outputs": [
    {
     "data": {
      "text/plain": [
       "0.9666666666666667"
      ]
     },
     "execution_count": 19,
     "metadata": {},
     "output_type": "execute_result"
    }
   ],
   "source": [
    "## Accuracy without bagging\n",
    "dr_score"
   ]
  },
  {
   "cell_type": "code",
   "execution_count": 20,
   "id": "0f9607d2",
   "metadata": {},
   "outputs": [
    {
     "data": {
      "text/plain": [
       "0.9444444444444444"
      ]
     },
     "execution_count": 20,
     "metadata": {},
     "output_type": "execute_result"
    }
   ],
   "source": [
    "## out of bag evaluation\n",
    "drb.oob_score_"
   ]
  },
  {
   "cell_type": "code",
   "execution_count": 21,
   "id": "986c7293",
   "metadata": {},
   "outputs": [
    {
     "data": {
      "text/plain": [
       "0.9666666666666667"
      ]
     },
     "execution_count": 21,
     "metadata": {},
     "output_type": "execute_result"
    }
   ],
   "source": [
    "## Accuracy score with bagging\n",
    "drb_score"
   ]
  }
 ],
 "metadata": {
  "kernelspec": {
   "display_name": "Python 3 (ipykernel)",
   "language": "python",
   "name": "python3"
  },
  "language_info": {
   "codemirror_mode": {
    "name": "ipython",
    "version": 3
   },
   "file_extension": ".py",
   "mimetype": "text/x-python",
   "name": "python",
   "nbconvert_exporter": "python",
   "pygments_lexer": "ipython3",
   "version": "3.10.0"
  }
 },
 "nbformat": 4,
 "nbformat_minor": 5
}
